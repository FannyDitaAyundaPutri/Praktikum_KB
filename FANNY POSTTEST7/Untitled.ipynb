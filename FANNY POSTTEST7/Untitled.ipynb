{
 "cells": [
  {
   "cell_type": "markdown",
   "id": "d5ebf93c-6b32-47bc-a5c3-28fe4788d2d2",
   "metadata": {},
   "source": [
    "POSTTEST 7\n",
    "\n",
    "NAMA : Fanny Dita Ayunda Putri\n",
    "\n",
    "NIM  : 2009106139"
   ]
  },
  {
   "cell_type": "code",
   "execution_count": 2,
   "id": "5b74d4c6-b127-4099-9ed7-1883335774ed",
   "metadata": {},
   "outputs": [],
   "source": [
    "import numpy as np\n",
    "import tensorflow as tf"
   ]
  },
  {
   "cell_type": "code",
   "execution_count": 3,
   "id": "bcb9d88e-973f-4bed-97de-73a516c05d3a",
   "metadata": {},
   "outputs": [
    {
     "data": {
      "text/plain": [
       "array([[ -2.056591  ,   9.422994  ,   2.3266468 , -10.213521  ,\n",
       "          2.496242  ],\n",
       "       [  4.9561214 ,   4.964115  ,  -8.614648  ,  -1.6144862 ,\n",
       "          1.7186481 ],\n",
       "       [  5.217724  ,   0.67837965,  11.283166  ,   4.8392086 ,\n",
       "          0.08582056],\n",
       "       [ -5.426717  ,   8.308855  ,   1.8734696 ,   0.6768515 ,\n",
       "          9.664069  ],\n",
       "       [ -6.7148857 ,  -0.18946481,  -0.83005   ,   3.6033463 ,\n",
       "          7.664155  ]], dtype=float32)"
      ]
     },
     "execution_count": 3,
     "metadata": {},
     "output_type": "execute_result"
    }
   ],
   "source": [
    "random_tensor = tf.random.normal([5,5], mean=2., stddev=5., seed=1)\n",
    "random_tensor.numpy()"
   ]
  },
  {
   "cell_type": "code",
   "execution_count": 4,
   "id": "d36affc7-dcd8-4b11-a4c5-b45a23a9c7cd",
   "metadata": {},
   "outputs": [
    {
     "data": {
      "text/plain": [
       "array([[ 1,  5,  7,  9],\n",
       "       [11, 15, 17, 19],\n",
       "       [21, 25, 27, 29],\n",
       "       [31, 35, 37, 39],\n",
       "       [41, 45, 47, 49]])"
      ]
     },
     "execution_count": 4,
     "metadata": {},
     "output_type": "execute_result"
    }
   ],
   "source": [
    "list_utt = [[1,5,7,9],[11,15,17,19],[21,25,27,29],[31,35,37,39],[41,45,47,49]]\n",
    "\n",
    "utt = tf.convert_to_tensor(list_utt)\n",
    "utt.numpy()"
   ]
  },
  {
   "cell_type": "code",
   "execution_count": 5,
   "id": "5dc69303-7c1c-4c4d-a64c-115f47a8c513",
   "metadata": {},
   "outputs": [
    {
     "data": {
      "text/plain": [
       "array([[[ 0.78275615,  0.5966545 , -0.47194836, -0.71575254,\n",
       "          0.12844981],\n",
       "        [-0.78193116, -2.3855624 ,  1.8920485 , -0.5722237 ,\n",
       "         -1.4140924 ],\n",
       "        [ 1.2217467 ,  0.9815783 , -1.1262436 ,  1.2255656 ,\n",
       "          1.7110966 ],\n",
       "        [-1.1979545 , -0.32096002, -0.5286871 ,  1.1826814 ,\n",
       "          0.8855795 ],\n",
       "        [-1.4306526 , -3.4361908 ,  1.7149858 , -0.19484234,\n",
       "          1.0247941 ]],\n",
       "\n",
       "       [[ 0.898293  ,  1.2740895 ,  1.5284954 ,  0.61521626,\n",
       "          0.8784435 ],\n",
       "        [ 1.2263372 ,  0.31663546,  0.03043338, -0.87407446,\n",
       "          0.37618646],\n",
       "        [ 0.4326596 ,  0.63368535,  0.09880315,  0.03275524,\n",
       "         -2.6776507 ],\n",
       "        [-0.05176039, -2.32762   ,  2.027987  , -0.17340957,\n",
       "         -0.06563471],\n",
       "        [-0.08375049,  2.748558  ,  0.74724925, -0.13758458,\n",
       "         -0.25242913]],\n",
       "\n",
       "       [[ 0.15644492,  1.9301356 ,  0.99504566,  0.6790811 ,\n",
       "         -0.08978736],\n",
       "        [ 0.59622604,  2.0816028 , -0.73367065, -0.6020559 ,\n",
       "         -1.4337866 ],\n",
       "        [-0.5183691 , -1.9589769 ,  0.27701122, -0.52031296,\n",
       "         -0.20900525],\n",
       "        [-1.3076317 ,  0.33140752, -1.3865631 ,  1.3011745 ,\n",
       "         -1.2371743 ],\n",
       "        [ 0.23702382,  1.5387325 ,  0.84532726,  1.0231988 ,\n",
       "          1.8864452 ]],\n",
       "\n",
       "       [[ 0.7399482 ,  0.68120897, -1.3935423 ,  0.29422906,\n",
       "          1.0763179 ],\n",
       "        [ 0.7203929 ,  0.6487962 , -0.28776726, -0.76762867,\n",
       "          0.8173639 ],\n",
       "        [ 0.6280035 ,  0.22146587, -1.2916162 , -1.3391064 ,\n",
       "          0.40493134],\n",
       "        [ 2.2946117 ,  0.8595317 , -0.3653993 ,  0.76288974,\n",
       "         -1.6423769 ],\n",
       "        [ 2.002726  ,  0.371156  ,  1.2335889 , -0.42365924,\n",
       "          0.6134027 ]],\n",
       "\n",
       "       [[-0.57904637,  0.2802518 , -0.4944699 , -0.5899856 ,\n",
       "         -0.1298643 ],\n",
       "        [-0.07934906,  1.2654076 ,  0.70264417, -0.84237194,\n",
       "         -0.76820445],\n",
       "        [ 0.6114585 ,  0.31585243,  2.3189776 , -0.08183373,\n",
       "         -0.53457624],\n",
       "        [-0.34397525, -0.3879655 ,  0.29394042,  0.864706  ,\n",
       "          2.1425374 ],\n",
       "        [ 0.10043704,  1.6022818 , -0.66241664,  1.970253  ,\n",
       "          0.11225001]]], dtype=float32)"
      ]
     },
     "execution_count": 5,
     "metadata": {},
     "output_type": "execute_result"
    }
   ],
   "source": [
    "slicing = tf.random.normal([5,5,5])\n",
    "slicing.numpy()"
   ]
  },
  {
   "cell_type": "code",
   "execution_count": 6,
   "id": "0417d556-c9a0-4f92-beb2-08c55f1a8b9d",
   "metadata": {},
   "outputs": [
    {
     "data": {
      "text/plain": [
       "<tf.Tensor: shape=(), dtype=float32, numpy=0.76288974>"
      ]
     },
     "execution_count": 6,
     "metadata": {},
     "output_type": "execute_result"
    }
   ],
   "source": [
    "slicing[3,3,3]"
   ]
  },
  {
   "cell_type": "code",
   "execution_count": 7,
   "id": "e0a4933a-d7ae-4bda-83de-c90d6ebf8b38",
   "metadata": {},
   "outputs": [
    {
     "data": {
      "text/plain": [
       "array([[[ 0.7399482 ,  0.68120897, -1.3935423 ,  0.29422906,\n",
       "          1.0763179 ],\n",
       "        [ 0.7203929 ,  0.6487962 , -0.28776726, -0.76762867,\n",
       "          0.8173639 ],\n",
       "        [ 0.6280035 ,  0.22146587, -1.2916162 , -1.3391064 ,\n",
       "          0.40493134],\n",
       "        [ 2.2946117 ,  0.8595317 , -0.3653993 ,  0.76288974,\n",
       "         -1.6423769 ],\n",
       "        [ 2.002726  ,  0.371156  ,  1.2335889 , -0.42365924,\n",
       "          0.6134027 ]],\n",
       "\n",
       "       [[ 0.7399482 ,  0.68120897, -1.3935423 ,  0.29422906,\n",
       "          1.0763179 ],\n",
       "        [ 0.7203929 ,  0.6487962 , -0.28776726, -0.76762867,\n",
       "          0.8173639 ],\n",
       "        [ 0.6280035 ,  0.22146587, -1.2916162 , -1.3391064 ,\n",
       "          0.40493134],\n",
       "        [ 2.2946117 ,  0.8595317 , -0.3653993 ,  0.76288974,\n",
       "         -1.6423769 ],\n",
       "        [ 2.002726  ,  0.371156  ,  1.2335889 , -0.42365924,\n",
       "          0.6134027 ]],\n",
       "\n",
       "       [[ 0.7399482 ,  0.68120897, -1.3935423 ,  0.29422906,\n",
       "          1.0763179 ],\n",
       "        [ 0.7203929 ,  0.6487962 , -0.28776726, -0.76762867,\n",
       "          0.8173639 ],\n",
       "        [ 0.6280035 ,  0.22146587, -1.2916162 , -1.3391064 ,\n",
       "          0.40493134],\n",
       "        [ 2.2946117 ,  0.8595317 , -0.3653993 ,  0.76288974,\n",
       "         -1.6423769 ],\n",
       "        [ 2.002726  ,  0.371156  ,  1.2335889 , -0.42365924,\n",
       "          0.6134027 ]]], dtype=float32)"
      ]
     },
     "execution_count": 7,
     "metadata": {},
     "output_type": "execute_result"
    }
   ],
   "source": [
    "tf.gather(slicing, indices=[3,3,3]).numpy()"
   ]
  },
  {
   "cell_type": "code",
   "execution_count": 8,
   "id": "e6e744a9-eb79-4e16-8ba1-b53bc64baf75",
   "metadata": {},
   "outputs": [
    {
     "data": {
      "text/plain": [
       "array([-1.1262436 ,  0.09880315,  0.27701122, -1.2916162 ,  2.3189776 ],\n",
       "      dtype=float32)"
      ]
     },
     "execution_count": 8,
     "metadata": {},
     "output_type": "execute_result"
    }
   ],
   "source": [
    "tf.gather_nd(slicing, indices=[[0,2,2],[1,2,2],[2,2,2],[3,2,2],[4,2,2]]).numpy()"
   ]
  },
  {
   "cell_type": "markdown",
   "id": "7a3afef9-bcb8-4cf5-9462-3b0d031adf2a",
   "metadata": {},
   "source": [
    "Tensorflow Dengan Bilangan Prima"
   ]
  },
  {
   "cell_type": "code",
   "execution_count": 9,
   "id": "6be3d8f3-b74e-4f40-bcd2-1624125f4b8c",
   "metadata": {},
   "outputs": [
    {
     "data": {
      "text/plain": [
       "array([[ 2.,  3.,  5.,  7., 11.],\n",
       "       [13., 17., 19., 23., 29.],\n",
       "       [31., 37., 41., 43., 47.],\n",
       "       [53., 59., 61., 71., 73.],\n",
       "       [79., 83., 89., 97.,  1.]], dtype=float32)"
      ]
     },
     "execution_count": 9,
     "metadata": {},
     "output_type": "execute_result"
    }
   ],
   "source": [
    "list_prime = [[2, 3, 5, 7, 11],[13, 17, 19, 23, 29],[31, 37, 41, 43, 47],[53, 59, 61, 71, 73],[79, 83, 89, 97, 1]]\n",
    "\n",
    "prime_tensor = tf.constant(list_prime, dtype=tf.float32)\n",
    "prime_tensor.numpy()"
   ]
  },
  {
   "cell_type": "markdown",
   "id": "06b023fd-9b9c-46c9-97c1-768ee3cee469",
   "metadata": {},
   "source": [
    "Dimensi Pada ke-2 Variabel Diatas"
   ]
  },
  {
   "cell_type": "code",
   "execution_count": 10,
   "id": "2dba5884-1976-48b5-acaf-975e7e556273",
   "metadata": {},
   "outputs": [
    {
     "data": {
      "text/plain": [
       "TensorShape([5, 5])"
      ]
     },
     "execution_count": 10,
     "metadata": {},
     "output_type": "execute_result"
    }
   ],
   "source": [
    "prime_tensor.shape"
   ]
  },
  {
   "cell_type": "code",
   "execution_count": 11,
   "id": "9471dcf6-de07-4b7b-835c-532df05bc4e9",
   "metadata": {},
   "outputs": [
    {
     "data": {
      "text/plain": [
       "TensorShape([5, 5])"
      ]
     },
     "execution_count": 11,
     "metadata": {},
     "output_type": "execute_result"
    }
   ],
   "source": [
    "random_tensor.shape"
   ]
  },
  {
   "cell_type": "markdown",
   "id": "d2124d52-e2f3-43b3-98ca-fcf5ae4389aa",
   "metadata": {},
   "source": [
    "Penggabungan Variabel  Concatenation"
   ]
  },
  {
   "cell_type": "code",
   "execution_count": 12,
   "id": "afd1c977-fc60-4560-a7ad-ffdde80f04e9",
   "metadata": {},
   "outputs": [
    {
     "data": {
      "text/plain": [
       "array([[-2.0565910e+00,  9.4229937e+00,  2.3266468e+00, -1.0213521e+01,\n",
       "         2.4962420e+00,  2.0000000e+00,  3.0000000e+00,  5.0000000e+00,\n",
       "         7.0000000e+00,  1.1000000e+01],\n",
       "       [ 4.9561214e+00,  4.9641151e+00, -8.6146479e+00, -1.6144862e+00,\n",
       "         1.7186481e+00,  1.3000000e+01,  1.7000000e+01,  1.9000000e+01,\n",
       "         2.3000000e+01,  2.9000000e+01],\n",
       "       [ 5.2177238e+00,  6.7837965e-01,  1.1283166e+01,  4.8392086e+00,\n",
       "         8.5820556e-02,  3.1000000e+01,  3.7000000e+01,  4.1000000e+01,\n",
       "         4.3000000e+01,  4.7000000e+01],\n",
       "       [-5.4267168e+00,  8.3088551e+00,  1.8734696e+00,  6.7685151e-01,\n",
       "         9.6640692e+00,  5.3000000e+01,  5.9000000e+01,  6.1000000e+01,\n",
       "         7.1000000e+01,  7.3000000e+01],\n",
       "       [-6.7148857e+00, -1.8946481e-01, -8.3004999e-01,  3.6033463e+00,\n",
       "         7.6641550e+00,  7.9000000e+01,  8.3000000e+01,  8.9000000e+01,\n",
       "         9.7000000e+01,  1.0000000e+00]], dtype=float32)"
      ]
     },
     "execution_count": 12,
     "metadata": {},
     "output_type": "execute_result"
    }
   ],
   "source": [
    "tf.concat([random_tensor,prime_tensor], axis=1).numpy()#Penggabungan Variabel Pada Kolom"
   ]
  },
  {
   "cell_type": "code",
   "execution_count": 13,
   "id": "715336b1-e893-40de-afa7-a51270d213db",
   "metadata": {},
   "outputs": [
    {
     "data": {
      "text/plain": [
       "array([[-2.0565910e+00,  9.4229937e+00,  2.3266468e+00, -1.0213521e+01,\n",
       "         2.4962420e+00],\n",
       "       [ 4.9561214e+00,  4.9641151e+00, -8.6146479e+00, -1.6144862e+00,\n",
       "         1.7186481e+00],\n",
       "       [ 5.2177238e+00,  6.7837965e-01,  1.1283166e+01,  4.8392086e+00,\n",
       "         8.5820556e-02],\n",
       "       [-5.4267168e+00,  8.3088551e+00,  1.8734696e+00,  6.7685151e-01,\n",
       "         9.6640692e+00],\n",
       "       [-6.7148857e+00, -1.8946481e-01, -8.3004999e-01,  3.6033463e+00,\n",
       "         7.6641550e+00],\n",
       "       [ 2.0000000e+00,  3.0000000e+00,  5.0000000e+00,  7.0000000e+00,\n",
       "         1.1000000e+01],\n",
       "       [ 1.3000000e+01,  1.7000000e+01,  1.9000000e+01,  2.3000000e+01,\n",
       "         2.9000000e+01],\n",
       "       [ 3.1000000e+01,  3.7000000e+01,  4.1000000e+01,  4.3000000e+01,\n",
       "         4.7000000e+01],\n",
       "       [ 5.3000000e+01,  5.9000000e+01,  6.1000000e+01,  7.1000000e+01,\n",
       "         7.3000000e+01],\n",
       "       [ 7.9000000e+01,  8.3000000e+01,  8.9000000e+01,  9.7000000e+01,\n",
       "         1.0000000e+00]], dtype=float32)"
      ]
     },
     "execution_count": 13,
     "metadata": {},
     "output_type": "execute_result"
    }
   ],
   "source": [
    "tf.concat([random_tensor,prime_tensor], axis=0).numpy()#Penggabungan Variabel Pada Baris"
   ]
  },
  {
   "cell_type": "markdown",
   "id": "813d4c7a-cdfb-41fa-be47-f2eca3065671",
   "metadata": {},
   "source": [
    "Perhitungan Aritmatika 2 Variabel"
   ]
  },
  {
   "cell_type": "code",
   "execution_count": 15,
   "id": "7911f037-cc8c-42ff-8e65-9bf4f1f22683",
   "metadata": {},
   "outputs": [
    {
     "name": "stdout",
     "output_type": "stream",
     "text": [
      "1. Penjumlahan : tf.Tensor(\n",
      "[[-5.6591034e-02  1.2422994e+01  7.3266468e+00 -3.2135210e+00\n",
      "   1.3496243e+01]\n",
      " [ 1.7956121e+01  2.1964115e+01  1.0385352e+01  2.1385513e+01\n",
      "   3.0718649e+01]\n",
      " [ 3.6217724e+01  3.7678379e+01  5.2283165e+01  4.7839211e+01\n",
      "   4.7085819e+01]\n",
      " [ 4.7573284e+01  6.7308853e+01  6.2873470e+01  7.1676849e+01\n",
      "   8.2664070e+01]\n",
      " [ 7.2285110e+01  8.2810532e+01  8.8169952e+01  1.0060335e+02\n",
      "   8.6641550e+00]], shape=(5, 5), dtype=float32)\n",
      "\n",
      "2. Pengurangan : tf.Tensor(\n",
      "[[ 4.056591  -6.4229937  2.6733532 17.21352    8.503757 ]\n",
      " [ 8.043879  12.035885  27.614647  24.614487  27.281351 ]\n",
      " [25.782276  36.32162   29.716835  38.16079   46.91418  ]\n",
      " [58.426716  50.691147  59.12653   70.32315   63.33593  ]\n",
      " [85.71489   83.18947   89.83005   93.39665   -6.664155 ]], shape=(5, 5), dtype=float32)\n",
      "\n",
      "3. Perkalian : tf.Tensor(\n",
      "[[  -4.113182   28.268982   11.633234  -71.494644   27.458662]\n",
      " [  64.42958    84.38995  -163.67831   -37.133183   49.840794]\n",
      " [ 161.74944    25.100048  462.6098    208.08597     4.033566]\n",
      " [-287.616     490.22244   114.28165    48.056458  705.47705 ]\n",
      " [-530.47595   -15.725579  -73.87445   349.5246      7.664155]], shape=(5, 5), dtype=float32)\n",
      "\n",
      "4. Pembagian : tf.Tensor(\n",
      "[[-9.7248310e-01  3.1837016e-01  2.1490154e+00 -6.8536597e-01\n",
      "   4.4066238e+00]\n",
      " [ 2.6230187e+00  3.4245782e+00 -2.2055457e+00 -1.4246018e+01\n",
      "   1.6873728e+01]\n",
      " [ 5.9412880e+00  5.4541729e+01  3.6337318e+00  8.8857508e+00\n",
      "   5.4765436e+02]\n",
      " [-9.7664948e+00  7.1008582e+00  3.2559910e+01  1.0489745e+02\n",
      "   7.5537539e+00]\n",
      " [-1.1764906e+01 -4.3807608e+02 -1.0722246e+02  2.6919422e+01\n",
      "   1.3047753e-01]], shape=(5, 5), dtype=float32)\n",
      "\n",
      "5. Pangkat : tf.Tensor(\n",
      "[[2.4038337e-01 3.1326404e+04 4.2291817e+01 2.3365410e-09 3.9771155e+02]\n",
      " [3.3177109e+05 1.2825968e+06 9.6380248e-12 6.3315374e-03 3.2609753e+02]\n",
      " [6.0466312e+07 1.1583403e+01 1.5750991e+18 8.0296128e+07 1.3915550e+00]\n",
      " [4.3938292e-10 5.1731217e+14 2.2118779e+03 1.7907173e+01 1.0169065e+18]\n",
      " [1.8098848e-13 4.3291461e-01 2.4093997e-02 1.4422039e+07 1.0000000e+00]], shape=(5, 5), dtype=float32)\n",
      "\n",
      "6. Setara : tf.Tensor(\n",
      "[[False False False False False]\n",
      " [False False False False False]\n",
      " [False False False False False]\n",
      " [False False False False False]\n",
      " [False False False False False]], shape=(5, 5), dtype=bool)\n",
      "\n",
      "7. Tidak Setara : tf.Tensor(\n",
      "[[ True  True  True  True  True]\n",
      " [ True  True  True  True  True]\n",
      " [ True  True  True  True  True]\n",
      " [ True  True  True  True  True]\n",
      " [ True  True  True  True  True]], shape=(5, 5), dtype=bool)\n",
      "\n",
      "8. Maximum : tf.Tensor(\n",
      "[[ 2.        9.422994  5.        7.       11.      ]\n",
      " [13.       17.       19.       23.       29.      ]\n",
      " [31.       37.       41.       43.       47.      ]\n",
      " [53.       59.       61.       71.       73.      ]\n",
      " [79.       83.       89.       97.        7.664155]], shape=(5, 5), dtype=float32)\n",
      "\n",
      "9. Minimum : tf.Tensor(\n",
      "[[ -2.056591     3.           2.3266468  -10.213521     2.496242  ]\n",
      " [  4.9561214    4.964115    -8.614648    -1.6144862    1.7186481 ]\n",
      " [  5.217724     0.67837965  11.283166     4.8392086    0.08582056]\n",
      " [ -5.426717     8.308855     1.8734696    0.6768515    9.664069  ]\n",
      " [ -6.7148857   -0.18946481  -0.83005      3.6033463    1.        ]], shape=(5, 5), dtype=float32)\n",
      "\n",
      "10. Kuadrat Perbedaan : tf.Tensor(\n",
      "[[1.6455931e+01 4.1254848e+01 7.1468172e+00 2.9630527e+02 7.2313889e+01]\n",
      " [6.4703979e+01 1.4486252e+02 7.6256873e+02 6.0587292e+02 7.4427209e+02]\n",
      " [6.6472577e+02 1.3192601e+03 8.8309027e+02 1.4562458e+03 2.2009404e+03]\n",
      " [3.4136812e+03 2.5695923e+03 3.4959465e+03 4.9453457e+03 4.0114399e+03]\n",
      " [7.3470425e+03 6.9204878e+03 8.0694375e+03 8.7229346e+03 4.4410961e+01]], shape=(5, 5), dtype=float32)\n"
     ]
    }
   ],
   "source": [
    "print(\"1. Penjumlahan :\",tf.add(prime_tensor,random_tensor))\n",
    "print(\"\\n2. Pengurangan :\",tf.subtract(prime_tensor,random_tensor))\n",
    "print(\"\\n3. Perkalian :\",tf.multiply(prime_tensor,random_tensor))\n",
    "print(\"\\n4. Pembagian :\",tf.divide(prime_tensor,random_tensor))\n",
    "print(\"\\n5. Pangkat :\",tf.pow(prime_tensor,random_tensor))\n",
    "print(\"\\n6. Setara :\",tf.equal(prime_tensor,random_tensor))\n",
    "print(\"\\n7. Tidak Setara :\",tf.not_equal(prime_tensor,random_tensor))\n",
    "print(\"\\n8. Maximum :\",tf.math.maximum(prime_tensor,random_tensor))\n",
    "print(\"\\n9. Minimum :\",tf.math.minimum(prime_tensor,random_tensor))\n",
    "print(\"\\n10. Kuadrat Perbedaan :\",tf.math.squared_difference(prime_tensor,random_tensor))"
   ]
  },
  {
   "cell_type": "markdown",
   "id": "d9c0a163-3ab2-49b4-b991-202567b1cc98",
   "metadata": {},
   "source": [
    "Tampilan Hasil Sorting (Descending)"
   ]
  },
  {
   "cell_type": "code",
   "execution_count": 16,
   "id": "da297abf-c61d-4bd7-b1cf-3e4cd546f591",
   "metadata": {},
   "outputs": [
    {
     "data": {
      "text/plain": [
       "array([[4, 3, 2, 1, 0],\n",
       "       [4, 3, 2, 1, 0],\n",
       "       [4, 3, 2, 1, 0],\n",
       "       [4, 3, 2, 1, 0],\n",
       "       [3, 2, 1, 0, 4]])"
      ]
     },
     "execution_count": 16,
     "metadata": {},
     "output_type": "execute_result"
    }
   ],
   "source": [
    "sort_prime_tensor2 = tf.argsort(prime_tensor, direction=\"DESCENDING\")\n",
    "sort_prime_tensor2.numpy()"
   ]
  },
  {
   "cell_type": "code",
   "execution_count": 17,
   "id": "aecbefba-878a-422b-9ea7-b5708387a5f0",
   "metadata": {},
   "outputs": [
    {
     "data": {
      "text/plain": [
       "array([[1, 4, 2, 0, 3],\n",
       "       [1, 0, 4, 3, 2],\n",
       "       [2, 0, 3, 1, 4],\n",
       "       [4, 1, 2, 3, 0],\n",
       "       [4, 3, 1, 2, 0]])"
      ]
     },
     "execution_count": 17,
     "metadata": {},
     "output_type": "execute_result"
    }
   ],
   "source": [
    "sort_random_tensor2 = tf.argsort(random_tensor, direction=\"DESCENDING\")\n",
    "sort_random_tensor2.numpy()"
   ]
  },
  {
   "cell_type": "code",
   "execution_count": 18,
   "id": "9c4fd8e4-2117-48ca-a981-32f2be5973c7",
   "metadata": {},
   "outputs": [
    {
     "data": {
      "text/plain": [
       "array([[  9.422994  ,   2.496242  ,   2.3266468 ,  -2.056591  ,\n",
       "        -10.213521  ],\n",
       "       [  4.964115  ,   4.9561214 ,   1.7186481 ,  -1.6144862 ,\n",
       "         -8.614648  ],\n",
       "       [ 11.283166  ,   5.217724  ,   4.8392086 ,   0.67837965,\n",
       "          0.08582056],\n",
       "       [  9.664069  ,   8.308855  ,   1.8734696 ,   0.6768515 ,\n",
       "         -5.426717  ],\n",
       "       [  7.664155  ,   3.6033463 ,  -0.18946481,  -0.83005   ,\n",
       "         -6.7148857 ]], dtype=float32)"
      ]
     },
     "execution_count": 18,
     "metadata": {},
     "output_type": "execute_result"
    }
   ],
   "source": [
    "sort_random_tensor1 = tf.sort(random_tensor, direction=\"DESCENDING\")\n",
    "sort_random_tensor1.numpy()"
   ]
  },
  {
   "cell_type": "code",
   "execution_count": 19,
   "id": "ac174920-7e68-4e58-9d18-32a9f00b2a8f",
   "metadata": {},
   "outputs": [
    {
     "data": {
      "text/plain": [
       "array([[11.,  7.,  5.,  3.,  2.],\n",
       "       [29., 23., 19., 17., 13.],\n",
       "       [47., 43., 41., 37., 31.],\n",
       "       [73., 71., 61., 59., 53.],\n",
       "       [97., 89., 83., 79.,  1.]], dtype=float32)"
      ]
     },
     "execution_count": 19,
     "metadata": {},
     "output_type": "execute_result"
    }
   ],
   "source": [
    "sort_prime_tensor1 = tf.sort(prime_tensor, direction=\"DESCENDING\")\n",
    "sort_prime_tensor1.numpy()"
   ]
  },
  {
   "cell_type": "code",
   "execution_count": null,
   "id": "68331f1f-0631-404d-9d5d-2e73e508b9ce",
   "metadata": {},
   "outputs": [],
   "source": []
  }
 ],
 "metadata": {
  "kernelspec": {
   "display_name": "Python 3 (ipykernel)",
   "language": "python",
   "name": "python3"
  },
  "language_info": {
   "codemirror_mode": {
    "name": "ipython",
    "version": 3
   },
   "file_extension": ".py",
   "mimetype": "text/x-python",
   "name": "python",
   "nbconvert_exporter": "python",
   "pygments_lexer": "ipython3",
   "version": "3.9.5"
  }
 },
 "nbformat": 4,
 "nbformat_minor": 5
}
